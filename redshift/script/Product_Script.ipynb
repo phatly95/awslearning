{
 "cells": [
  {
   "cell_type": "code",
   "execution_count": 7,
   "metadata": {},
   "outputs": [
    {
     "name": "stdout",
     "output_type": "stream",
     "text": [
      "Executed\n"
     ]
    }
   ],
   "source": [
    "import pandas as pd\n",
    "\n",
    "def generate_dummy_info():\n",
    "    ran_data = []\n",
    "    a_dict = {'iphon11':'249.00', 'iphone12':'350.00','iphone13':'950.00','iphoneSE':'120.00','IpadMax':'1500.00',\n",
    "              'IpadMini':'625.00','laptop256':'858.00','Macbook512':'777.49',\n",
    "                'galaxy10':'875.65','galaxy11':'749.02','galaxy12':'1200.00','galaxy13':'1500.55',\n",
    "              'watch320':'999.09','watch340':'1500.50','Nk320':'500.00','Nk400':'650.54','Nk500':'784.49'}\n",
    "    for key, value in a_dict.items():\n",
    "        ran_data.append((key,value))\n",
    "    return ran_data\n",
    "\n",
    "if __name__ == '__main__':\n",
    "    df = pd.DataFrame(generate_dummy_info(), columns=['Product_Name', 'Price'])\n",
    "    df.to_csv('product_data_20221101.csv', index= False)\n",
    "    print(\"Executed\")"
   ]
  },
  {
   "cell_type": "code",
   "execution_count": null,
   "metadata": {},
   "outputs": [],
   "source": []
  }
 ],
 "metadata": {
  "kernelspec": {
   "display_name": "Python 3",
   "language": "python",
   "name": "python3"
  },
  "language_info": {
   "codemirror_mode": {
    "name": "ipython",
    "version": 3
   },
   "file_extension": ".py",
   "mimetype": "text/x-python",
   "name": "python",
   "nbconvert_exporter": "python",
   "pygments_lexer": "ipython3",
   "version": "3.8.5"
  }
 },
 "nbformat": 4,
 "nbformat_minor": 4
}
